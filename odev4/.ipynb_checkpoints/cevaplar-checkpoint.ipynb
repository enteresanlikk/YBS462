{
 "cells": [
  {
   "cell_type": "code",
   "execution_count": 1,
   "id": "a532b15a",
   "metadata": {},
   "outputs": [],
   "source": [
    "import numpy as np\n",
    "import os\n",
    "import cv2\n",
    "import tensorflow as tf\n",
    "from tqdm import tqdm\n",
    "from sklearn.utils import shuffle\n",
    "from sklearn.metrics import classification_report"
   ]
  },
  {
   "cell_type": "code",
   "execution_count": 2,
   "id": "74966e12",
   "metadata": {},
   "outputs": [],
   "source": [
    "class_names = ['mountain', 'street', 'glacier', 'buildings', 'sea', 'forest']\n",
    "class_names_label = {class_name:i for i, class_name in enumerate(class_names)}\n",
    "\n",
    "IMAGE_SIZE = (150, 150)"
   ]
  },
  {
   "cell_type": "code",
   "execution_count": 3,
   "id": "4d809772",
   "metadata": {},
   "outputs": [],
   "source": [
    "def load_data():\n",
    "    DIRECTORY = os.getcwd()\n",
    "    FOLDERS = ['seg_train', 'seg_test']\n",
    "    \n",
    "    output = []\n",
    "    \n",
    "    for dataset in FOLDERS:\n",
    "        path = os.path.join(DIRECTORY, dataset)\n",
    "        images = []\n",
    "        labels = []\n",
    "        \n",
    "        for folder in os.listdir(path):\n",
    "            label = class_names_label[folder]\n",
    "            \n",
    "            for file in tqdm(os.listdir(os.path.join(path, folder))):\n",
    "                img_path = os.path.join(os.path.join(path, folder), file)\n",
    "                \n",
    "                image = cv2.imread(img_path)\n",
    "                image = cv2.cvtColor(image, cv2.COLOR_BGR2RGB)\n",
    "                image = cv2.resize(image, IMAGE_SIZE)\n",
    "                \n",
    "                images.append(image)\n",
    "                labels.append(label)\n",
    "        images = np.array(images, dtype = 'float32')\n",
    "        labels = np.array(labels, dtype = 'int32')\n",
    "        output.append((images, labels))\n",
    "    return output"
   ]
  },
  {
   "cell_type": "code",
   "execution_count": 4,
   "id": "2d08564d",
   "metadata": {},
   "outputs": [
    {
     "name": "stderr",
     "output_type": "stream",
     "text": [
      "100%|█████████████████████████████████████████████████████████████████████████████| 2191/2191 [00:03<00:00, 665.61it/s]\n",
      "100%|█████████████████████████████████████████████████████████████████████████████| 2271/2271 [00:03<00:00, 637.76it/s]\n",
      "100%|█████████████████████████████████████████████████████████████████████████████| 2404/2404 [00:03<00:00, 657.68it/s]\n",
      "100%|█████████████████████████████████████████████████████████████████████████████| 2512/2512 [00:04<00:00, 565.85it/s]\n",
      "100%|█████████████████████████████████████████████████████████████████████████████| 2274/2274 [00:03<00:00, 719.44it/s]\n",
      "100%|█████████████████████████████████████████████████████████████████████████████| 2382/2382 [00:03<00:00, 778.80it/s]\n",
      "100%|███████████████████████████████████████████████████████████████████████████████| 437/437 [00:00<00:00, 623.39it/s]\n",
      "100%|███████████████████████████████████████████████████████████████████████████████| 474/474 [00:00<00:00, 611.61it/s]\n",
      "100%|███████████████████████████████████████████████████████████████████████████████| 553/553 [00:00<00:00, 690.55it/s]\n",
      "100%|███████████████████████████████████████████████████████████████████████████████| 525/525 [00:00<00:00, 729.82it/s]\n",
      "100%|███████████████████████████████████████████████████████████████████████████████| 510/510 [00:00<00:00, 766.43it/s]\n",
      "100%|███████████████████████████████████████████████████████████████████████████████| 501/501 [00:00<00:00, 795.36it/s]\n"
     ]
    }
   ],
   "source": [
    "(train_images, train_labels), (test_images, test_labels) = load_data()"
   ]
  },
  {
   "cell_type": "code",
   "execution_count": 5,
   "id": "2df66e25",
   "metadata": {},
   "outputs": [],
   "source": [
    "train_images, train_labels = shuffle(train_images, train_labels, random_state=25)"
   ]
  },
  {
   "cell_type": "code",
   "execution_count": 6,
   "id": "2a646859",
   "metadata": {},
   "outputs": [],
   "source": [
    "model = tf.keras.Sequential([\n",
    "    tf.keras.layers.Conv2D(32, (3, 3), activation = 'relu', input_shape = (150, 150, 3)), \n",
    "    tf.keras.layers.MaxPooling2D(2,2),\n",
    "    tf.keras.layers.Conv2D(32, (3, 3), activation = 'relu'),\n",
    "    tf.keras.layers.MaxPooling2D(2,2),\n",
    "    tf.keras.layers.Flatten(),\n",
    "    tf.keras.layers.Dense(128, activation=tf.nn.relu),\n",
    "    tf.keras.layers.Dense(6, activation=tf.nn.softmax)\n",
    "])"
   ]
  },
  {
   "cell_type": "code",
   "execution_count": 7,
   "id": "04380c52",
   "metadata": {},
   "outputs": [],
   "source": [
    "model.compile(optimizer = 'adam', loss = 'sparse_categorical_crossentropy', metrics=['accuracy'])"
   ]
  },
  {
   "cell_type": "code",
   "execution_count": 8,
   "id": "ccdedd97",
   "metadata": {},
   "outputs": [
    {
     "name": "stdout",
     "output_type": "stream",
     "text": [
      "Epoch 1/20\n",
      "88/88 [==============================] - 112s 1s/step - loss: 144.6354 - accuracy: 0.3555 - val_loss: 1.4005 - val_accuracy: 0.4784\n",
      "Epoch 2/20\n",
      "88/88 [==============================] - 110s 1s/step - loss: 1.0604 - accuracy: 0.6173 - val_loss: 1.2268 - val_accuracy: 0.5372\n",
      "Epoch 3/20\n",
      "88/88 [==============================] - 113s 1s/step - loss: 0.5258 - accuracy: 0.8186 - val_loss: 1.3401 - val_accuracy: 0.5497\n",
      "Epoch 4/20\n",
      "88/88 [==============================] - 115s 1s/step - loss: 0.2114 - accuracy: 0.9336 - val_loss: 1.5721 - val_accuracy: 0.5729\n",
      "Epoch 5/20\n",
      "88/88 [==============================] - 115s 1s/step - loss: 0.1203 - accuracy: 0.9688 - val_loss: 1.7352 - val_accuracy: 0.5568\n",
      "Epoch 6/20\n",
      "88/88 [==============================] - 115s 1s/step - loss: 0.0684 - accuracy: 0.9847 - val_loss: 1.9866 - val_accuracy: 0.5472\n",
      "Epoch 7/20\n",
      "88/88 [==============================] - 116s 1s/step - loss: 0.0450 - accuracy: 0.9908 - val_loss: 2.2024 - val_accuracy: 0.5924\n",
      "Epoch 8/20\n",
      "88/88 [==============================] - 116s 1s/step - loss: 0.0454 - accuracy: 0.9912 - val_loss: 2.0318 - val_accuracy: 0.5504\n",
      "Epoch 9/20\n",
      "88/88 [==============================] - 116s 1s/step - loss: 0.0934 - accuracy: 0.9766 - val_loss: 2.2830 - val_accuracy: 0.5700\n",
      "Epoch 10/20\n",
      "88/88 [==============================] - 116s 1s/step - loss: 0.0716 - accuracy: 0.9837 - val_loss: 2.3711 - val_accuracy: 0.5476\n",
      "Epoch 11/20\n",
      "88/88 [==============================] - 117s 1s/step - loss: 0.0610 - accuracy: 0.9881 - val_loss: 2.4158 - val_accuracy: 0.5739\n",
      "Epoch 12/20\n",
      "88/88 [==============================] - 117s 1s/step - loss: 0.0521 - accuracy: 0.9894 - val_loss: 2.7829 - val_accuracy: 0.5810\n",
      "Epoch 13/20\n",
      "88/88 [==============================] - 117s 1s/step - loss: 0.0335 - accuracy: 0.9926 - val_loss: 2.5711 - val_accuracy: 0.5525\n",
      "Epoch 14/20\n",
      "88/88 [==============================] - 117s 1s/step - loss: 0.0306 - accuracy: 0.9948 - val_loss: 2.8121 - val_accuracy: 0.5789\n",
      "Epoch 15/20\n",
      "88/88 [==============================] - 117s 1s/step - loss: 0.0166 - accuracy: 0.9964 - val_loss: 2.9536 - val_accuracy: 0.5796\n",
      "Epoch 16/20\n",
      "88/88 [==============================] - 117s 1s/step - loss: 0.0137 - accuracy: 0.9975 - val_loss: 2.9939 - val_accuracy: 0.5689\n",
      "Epoch 17/20\n",
      "88/88 [==============================] - 116s 1s/step - loss: 0.0121 - accuracy: 0.9978 - val_loss: 3.2191 - val_accuracy: 0.5643\n",
      "Epoch 18/20\n",
      "88/88 [==============================] - 117s 1s/step - loss: 0.0094 - accuracy: 0.9984 - val_loss: 3.0565 - val_accuracy: 0.5771\n",
      "Epoch 19/20\n",
      "88/88 [==============================] - 117s 1s/step - loss: 0.0086 - accuracy: 0.9980 - val_loss: 2.8636 - val_accuracy: 0.5664\n",
      "Epoch 20/20\n",
      "88/88 [==============================] - 117s 1s/step - loss: 0.0247 - accuracy: 0.9924 - val_loss: 3.1929 - val_accuracy: 0.5525\n"
     ]
    }
   ],
   "source": [
    "history = model.fit(train_images, train_labels, batch_size=128, epochs=20, validation_split = 0.2)"
   ]
  },
  {
   "cell_type": "code",
   "execution_count": 9,
   "id": "abaf8df4",
   "metadata": {},
   "outputs": [
    {
     "name": "stdout",
     "output_type": "stream",
     "text": [
      "94/94 [==============================] - 8s 90ms/step - loss: 3.1389 - accuracy: 0.5503\n"
     ]
    }
   ],
   "source": [
    "test_loss = model.evaluate(test_images, test_labels)"
   ]
  },
  {
   "cell_type": "code",
   "execution_count": 10,
   "id": "4f2b564e",
   "metadata": {},
   "outputs": [],
   "source": [
    "predictions = model.predict(test_images)\n",
    "pred_labels = np.argmax(predictions, axis = 1)"
   ]
  },
  {
   "cell_type": "code",
   "execution_count": 11,
   "id": "85fc1c7c",
   "metadata": {},
   "outputs": [
    {
     "name": "stdout",
     "output_type": "stream",
     "text": [
      "              precision    recall  f1-score   support\n",
      "\n",
      "           0       0.45      0.57      0.51       525\n",
      "           1       0.67      0.54      0.60       501\n",
      "           2       0.50      0.47      0.48       553\n",
      "           3       0.55      0.52      0.53       437\n",
      "           4       0.41      0.37      0.39       510\n",
      "           5       0.75      0.86      0.80       474\n",
      "\n",
      "    accuracy                           0.55      3000\n",
      "   macro avg       0.55      0.55      0.55      3000\n",
      "weighted avg       0.55      0.55      0.55      3000\n",
      "\n"
     ]
    }
   ],
   "source": [
    "print(classification_report(test_labels, pred_labels))"
   ]
  }
 ],
 "metadata": {
  "kernelspec": {
   "display_name": "Python 3 (ipykernel)",
   "language": "python",
   "name": "python3"
  },
  "language_info": {
   "codemirror_mode": {
    "name": "ipython",
    "version": 3
   },
   "file_extension": ".py",
   "mimetype": "text/x-python",
   "name": "python",
   "nbconvert_exporter": "python",
   "pygments_lexer": "ipython3",
   "version": "3.9.10"
  }
 },
 "nbformat": 4,
 "nbformat_minor": 5
}
